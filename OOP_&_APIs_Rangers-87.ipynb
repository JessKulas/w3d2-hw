{
 "cells": [
  {
   "cell_type": "markdown",
   "metadata": {},
   "source": [
    "# Object Oriented Programming 2 - examples and APIs\n"
   ]
  },
  {
   "cell_type": "markdown",
   "metadata": {},
   "source": [
    "## Tasks Today:\n",
    "\n",
    "   \n",
    "\n",
    "1) <b>Shopping Cart Example</b> <br>\n",
    "2) <b>Requests and the pokemon API </b> <br>\n",
    " "
   ]
  },
  {
   "cell_type": "markdown",
   "metadata": {},
   "source": [
    "# Goal \n",
    "### build a shopping cart program with prices and quantities using objects and a dictionary"
   ]
  },
  {
   "cell_type": "code",
   "execution_count": null,
   "metadata": {},
   "outputs": [],
   "source": [
    "from IPython.display import clear_output as clear\n",
    "# Create a class called cart that retains items and has methods to add, remove, and show\n",
    "\n"
   ]
  },
  {
   "cell_type": "markdown",
   "metadata": {},
   "source": [
    "# working with APis"
   ]
  },
  {
   "cell_type": "markdown",
   "metadata": {},
   "source": [
    "<p> What exactly is an API? <br> <br>\n",
    "API is the acronym for Application Programming Interface, which is a software intermediary that allows two applications to talk to each other. Each time you use an app like Facebook, send an instant message, or check the weather on your phone, you're using an API. </p>"
   ]
  },
  {
   "cell_type": "markdown",
   "metadata": {},
   "source": [
    "### The Poke API  allows you to retreive a pokemon's information from PokeAPI https://pokeapi.co/\n",
    "\n"
   ]
  },
  {
   "cell_type": "code",
   "execution_count": null,
   "metadata": {},
   "outputs": [],
   "source": [
    "# making an API call\n",
    "import requests\n",
    "\n",
    "response = requests.get('https://pokeapi.co/api/v2/pokemon/pichu/')\n",
    "\n",
    "data = response.json()"
   ]
  },
  {
   "cell_type": "code",
   "execution_count": null,
   "metadata": {},
   "outputs": [],
   "source": [
    "data['height']"
   ]
  },
  {
   "cell_type": "markdown",
   "metadata": {},
   "source": [
    "### Display a Pokemon's name, weight, abilities, and types"
   ]
  },
  {
   "cell_type": "code",
   "execution_count": null,
   "metadata": {},
   "outputs": [],
   "source": [
    "# get the name\n",
    "data['name']"
   ]
  },
  {
   "cell_type": "code",
   "execution_count": null,
   "metadata": {},
   "outputs": [],
   "source": [
    "pichu_abilities = [p_abilities['ability']['name'] for p_abilities in data['abilities']]"
   ]
  },
  {
   "cell_type": "code",
   "execution_count": null,
   "metadata": {},
   "outputs": [],
   "source": [
    "# get types\n",
    "data['types'][0]['name']"
   ]
  },
  {
   "cell_type": "code",
   "execution_count": null,
   "metadata": {},
   "outputs": [],
   "source": [
    "response2 = requests.get('https://pokeapi.co/api/v2/pokemon/garchomp/')\n",
    "\n",
    "garchomp = response2.json()"
   ]
  },
  {
   "cell_type": "code",
   "execution_count": null,
   "metadata": {},
   "outputs": [],
   "source": [
    "garchomp['types']"
   ]
  },
  {
   "cell_type": "code",
   "execution_count": null,
   "metadata": {},
   "outputs": [],
   "source": []
  },
  {
   "cell_type": "code",
   "execution_count": null,
   "metadata": {},
   "outputs": [],
   "source": [
    "# get weight\n",
    "data['weight']"
   ]
  },
  {
   "cell_type": "code",
   "execution_count": null,
   "metadata": {},
   "outputs": [],
   "source": [
    "garchomp_abilities = [p_ability['ability']['name'] for p_ability in garchomp ['ability']]"
   ]
  },
  {
   "cell_type": "code",
   "execution_count": null,
   "metadata": {},
   "outputs": [],
   "source": []
  },
  {
   "cell_type": "code",
   "execution_count": null,
   "metadata": {},
   "outputs": [],
   "source": [
    "# get abilities\n"
   ]
  },
  {
   "cell_type": "code",
   "execution_count": null,
   "metadata": {},
   "outputs": [],
   "source": [
    "# Create a structure for a single pokemon\n",
    "pokemon = {\n",
    "    \"name\": data['name']"
   ]
  },
  {
   "cell_type": "code",
   "execution_count": null,
   "metadata": {},
   "outputs": [],
   "source": []
  },
  {
   "cell_type": "markdown",
   "metadata": {},
   "source": [
    "#### Create a function to Pull in your own Pokemon's data "
   ]
  },
  {
   "cell_type": "code",
   "execution_count": null,
   "metadata": {},
   "outputs": [],
   "source": [
    "def poke_api_call(pokemon):\n",
    "    response = requests.get(f'https://pokeapi.co/api/v2/pokemon/{pokemon}/')\n",
    "    \n",
    "    data = response.json()\n",
    "    \n",
    "    pokemon = {\n",
    "        'name': data['name'],\n",
    "        'types': [p_type['type']['name'] for p_type in data['types']],\n",
    "        'weight': data['weight'],\n",
    "        'abilities': [p_abilities['ability']['name'] for p_abilities in data['abilities']]\n",
    "    }\n",
    "    \n",
    "    return pokemon"
   ]
  },
  {
   "cell_type": "code",
   "execution_count": null,
   "metadata": {},
   "outputs": [],
   "source": [
    "poke_api_call(1)"
   ]
  },
  {
   "cell_type": "markdown",
   "metadata": {},
   "source": [
    "Choose your pokemon"
   ]
  },
  {
   "cell_type": "code",
   "execution_count": null,
   "metadata": {},
   "outputs": [],
   "source": [
    "from random import randint\n",
    "# Random number generated for each pokemon id\n",
    "random_team = [randint(1,898) for i in range(6)]\n",
    "\n",
    "print(random_team)\n",
    "\n",
    "your_team = ['electabuzz', 'haunter','tyranitar','blaziken','marowak','dragonair']\n"
   ]
  },
  {
   "cell_type": "markdown",
   "metadata": {},
   "source": [
    "#### Use your function to create a dictionary of your Johto League 6  (favorite 6 pokemon)"
   ]
  },
  {
   "cell_type": "code",
   "execution_count": null,
   "metadata": {},
   "outputs": [],
   "source": [
    "# Place all 6 of your pokemon on the object below, each pokemon should have at least as much info as Pikachu did.\n",
    "my_six_pokemon = {}\n",
    "\n",
    "for pokemon in your_team:\n",
    "    pokemon_stats = poke_api_call(pokemon)\n",
    "    \n",
    "    my_six_pokemon[pokemon.title()] = pokemon_stats"
   ]
  },
  {
   "cell_type": "code",
   "execution_count": null,
   "metadata": {},
   "outputs": [],
   "source": [
    "my_six_pokemon"
   ]
  },
  {
   "cell_type": "markdown",
   "metadata": {},
   "source": [
    "## Lets create a class called 'Pokemon' and create our pokemon as instances"
   ]
  },
  {
   "cell_type": "code",
   "execution_count": null,
   "metadata": {},
   "outputs": [],
   "source": [
    "class Pokemon():\n",
    "    pass"
   ]
  },
  {
   "cell_type": "markdown",
   "metadata": {},
   "source": [
    "### Let's Catch some Pokemon"
   ]
  },
  {
   "cell_type": "code",
   "execution_count": null,
   "metadata": {},
   "outputs": [],
   "source": []
  },
  {
   "cell_type": "code",
   "execution_count": null,
   "metadata": {},
   "outputs": [],
   "source": [
    "pokedex = {}\n"
   ]
  },
  {
   "cell_type": "markdown",
   "metadata": {},
   "source": [
    "## Exercise 1:"
   ]
  },
  {
   "cell_type": "markdown",
   "metadata": {},
   "source": [
    "### Create a Method prints an image of your pokemon\n",
    "\n",
    "<p>HINT: You may need another attribute as well to store your image url within. </p>"
   ]
  },
  {
   "cell_type": "code",
   "execution_count": null,
   "metadata": {},
   "outputs": [],
   "source": [
    "# Display an image in Jupyter notebook\n",
    "from IPython.display import Image\n",
    "\n",
    "display(Image( \"https://raw.githubusercontent.com/PokeAPI/sprites/master/sprites/pokemon/back/172.png\", width = 300))\n"
   ]
  },
  {
   "cell_type": "code",
   "execution_count": null,
   "metadata": {},
   "outputs": [],
   "source": [
    "# recreate your pokemon class here\n",
    "class Pokemon:\n",
    "    def __init__(self,name):\n",
    "        self.name = name\n",
    "        self.type = []\n",
    "        self.abilities = []\n",
    "        self.weight = None\n",
    "\n",
    "        \n",
    "        \n",
    "        self.image = None\n",
    "        self.poke_api_call()\n",
    "        \n",
    "    def poke_api_call(self):\n",
    "        r = requests.get(f\"https://pokeapi.co/api/v2/pokemon/{self.name}\")\n",
    "        if r.status_code == 200:\n",
    "            pokemon = r.json()\n",
    "        else:\n",
    "            print(f'Error occurred')\n",
    "            return\n",
    "        self.name = pokemon['name']\n",
    "        self.types = [pokemon['type']['name'] for pokemon in data['types']]\n",
    "        self.abilities = [poke['ability']['name'] for poke in data['abilities']]\n",
    "        self.weight = pokemon['weight']\n",
    "\n",
    "        \n",
    "        \n",
    "        self.sprite = pokemon[\"sprites\"][\"back_default\"]\n",
    "        print(f'You got a new {self.name}!')\n",
    "        \n",
    "        \n",
    "        \n",
    "    def display(self):\n",
    "        display(Image(url = self.image))\n",
    "        \n",
    "    def __repr__(self):\n",
    "        return f\"You got {self.name}!!\"\n",
    "    \n",
    "\n",
    "    "
   ]
  },
  {
   "cell_type": "code",
   "execution_count": null,
   "metadata": {},
   "outputs": [],
   "source": [
    "pichu = Pokemon(\"pichu\")\n",
    "\n",
    "print(pichu.image)"
   ]
  },
  {
   "cell_type": "code",
   "execution_count": null,
   "metadata": {},
   "outputs": [],
   "source": [
    "# Calling our new method\n",
    "pichu.display()"
   ]
  },
  {
   "cell_type": "markdown",
   "metadata": {},
   "source": [
    "## Exercise 2:"
   ]
  },
  {
   "cell_type": "markdown",
   "metadata": {},
   "source": [
    "### Create a Method that evolves your Pokemon\n",
    "If your pokemon can't evolve any further print a message that says \"\\<name of pokemon> can't evolve.\""
   ]
  },
  {
   "cell_type": "code",
   "execution_count": null,
   "metadata": {},
   "outputs": [],
   "source": [
    "class Pokemon():\n",
    "    def __init__(self, name):\n",
    "        self.name = name.lower()\n",
    "        self.types = []\n",
    "        self.weight = None\n",
    "        self.abilities = []\n",
    "        self.image_url = None\n",
    "        self.species_url = None\n",
    "        self.poke_api_call()\n",
    "        \n",
    "    def poke_api_call(self):\n",
    "        response = requests.get(f'https://pokeapi.co/api/v2/pokemon/{self.name}/')\n",
    "    \n",
    "        data = response.json()\n",
    "\n",
    "        self.name = data['name']\n",
    "        self.types = [p_type['type']['name'] for p_type in data['types']]\n",
    "        self.weight = data['weight']\n",
    "        self.abilities = [p_abilities['ability']['name'] for p_abilities in data['abilities']]\n",
    "        self.image_url = data['sprites']['other']['official-artwork']['front_default']\n",
    "        self.species_url = data['species']['url']\n",
    "        \n",
    "    def display_sprite(self, width=\"400\"):\n",
    "        display(Image(self.image_url, width=width))\n",
    "        \n",
    "    def evolve(self):\n",
    "        res_species = requests.get(self.species_url)\n",
    "        \n",
    "        data_species = res_species.json()\n",
    "        \n",
    "        evolution_chain = data_species['evolution_chain']['url']\n",
    "        \n",
    "        res_evolution = requests.get(evolution_chain)\n",
    "        \n",
    "        data_evolution = res_evolution.json()\n",
    "        \n",
    "        ccurrent_evolution = data_evolution['chain']\n",
    "        \n",
    "        while True:\n",
    "            if current_evolution['species']['name'] == self.name:\n",
    "                self.name = current_evolution['evolves_to'][0]['species']['name']\n",
    "                self.poke_api_call()\n",
    "                break\n",
    "                \n",
    "            elif len(current_evolution['evolves_to']) == 0:\n",
    "                print(f\"{self.name} cant evolve\")\n",
    "                break\n",
    "            else:\n",
    "                current_evolution = cerruent_evolution['evolves_to'][0]"
   ]
  },
  {
   "cell_type": "code",
   "execution_count": null,
   "metadata": {},
   "outputs": [],
   "source": [
    "pichu = Pokemon('pichu')"
   ]
  },
  {
   "cell_type": "code",
   "execution_count": null,
   "metadata": {},
   "outputs": [],
   "source": [
    "pichu.evolve()"
   ]
  },
  {
   "cell_type": "markdown",
   "metadata": {},
   "source": [
    "Now let's evolve a few"
   ]
  },
  {
   "cell_type": "code",
   "execution_count": null,
   "metadata": {
    "scrolled": true
   },
   "outputs": [],
   "source": [
    "\n"
   ]
  },
  {
   "cell_type": "code",
   "execution_count": null,
   "metadata": {},
   "outputs": [],
   "source": []
  },
  {
   "cell_type": "code",
   "execution_count": null,
   "metadata": {},
   "outputs": [],
   "source": []
  },
  {
   "cell_type": "markdown",
   "metadata": {},
   "source": [
    "#  Final Exercise: <br> <br>Create a Move_Tutor Class that will allow the Pokemon Class to inherit a move list.\n",
    "<br>\n",
    "<p>for an added bonus you can make sure that if a pokemon has 4 moves the user can choose one of them to replace with a new move. </p>"
   ]
  },
  {
   "cell_type": "code",
   "execution_count": null,
   "metadata": {},
   "outputs": [],
   "source": []
  },
  {
   "cell_type": "code",
   "execution_count": 1,
   "metadata": {},
   "outputs": [],
   "source": [
    "import requests "
   ]
  },
  {
   "cell_type": "code",
   "execution_count": 7,
   "metadata": {},
   "outputs": [],
   "source": [
    "class Move_Tutor:\n",
    "    def __init__(self):\n",
    "        self.move_list = []\n",
    "        self.current_moves = []\n",
    "        \n",
    "    def show_moves(self):\n",
    "        print(f\"{self.name}'s moves\")\n",
    "        \n",
    "        for move in self.current_moves:\n",
    "            print(move)\n",
    "    \n",
    "    def display_move_list(self):\n",
    "        print(f\"{self.name}'s teachable moves'\")\n",
    "        \n",
    "        for move in self.move_list:\n",
    "            print(move, end=\" \")\n",
    "            \n",
    "        print()\n",
    "    \n",
    "    def teach_move(self):\n",
    "        self.display_move_list()\n",
    "        print()\n",
    "        self.show_moves()\n",
    "        \n",
    "        new_move = input(\"What move would you like to learn? \")\n",
    "        \n",
    "        if new_move.lower() not in self.move_list:\n",
    "            print(f\"{new_move} is not valid\")\n",
    "            return\n",
    "        \n",
    "        if len(self.current_moves) >= 4:\n",
    "            replace_move = input(\"You already have 4 moves, which one would you like to replace?\")\n",
    "            \n",
    "            for idx, move in enumerate(self.current_moves):\n",
    "                if replace_move.lower() == move:\n",
    "                    self.current_moves[idx] = new_move.lower()\n",
    "                    print(f'{move} replaced with {new_move}')\n",
    "                    break\n",
    "        else:\n",
    "            self.current_moves.append(new_move.lower())\n",
    "            print(f\"Added {new_move} to {self.name}'s moves\")\n",
    "    \n",
    "class Pokemon(Move_Tutor):\n",
    "    def __init__(self, name):\n",
    "        self.name = name.lower()\n",
    "        self.types = []\n",
    "        self.weight = None\n",
    "        self.abilities = []\n",
    "        self.image_url = None\n",
    "        self.species_url = None\n",
    "        \n",
    "        super().__init__()\n",
    "        \n",
    "        self.poke_api_call()\n",
    "        \n",
    "    def poke_api_call(self):\n",
    "        response = requests.get(f'https://pokeapi.co/api/v2/pokemon/{self.name}/')\n",
    "    \n",
    "        data = response.json()\n",
    "\n",
    "        self.name = data['name']\n",
    "        self.types = [p_type['type']['name'] for p_type in data['types']]\n",
    "        self.weight = data['weight']\n",
    "        self.abilities = [p_abilities['ability']['name'] for p_abilities in data['abilities']]\n",
    "        self.image_url = data['sprites']['other']['official-artwork']['front_default']\n",
    "        self.species_url = data['species']['url']\n",
    "        \n",
    "        moves = data['moves']\n",
    "        \n",
    "        for move in moves:\n",
    "            self.move_list.append(move['move']['name'])\n",
    "    "
   ]
  },
  {
   "cell_type": "code",
   "execution_count": 8,
   "metadata": {},
   "outputs": [],
   "source": [
    "pikachu = Pokemon('pikachu')"
   ]
  },
  {
   "cell_type": "code",
   "execution_count": 9,
   "metadata": {},
   "outputs": [
    {
     "data": {
      "text/plain": [
       "<bound method Move_Tutor.display_move_list of <__main__.Pokemon object at 0x0000022C74519460>>"
      ]
     },
     "execution_count": 9,
     "metadata": {},
     "output_type": "execute_result"
    }
   ],
   "source": [
    "pikachu.display_move_list"
   ]
  },
  {
   "cell_type": "code",
   "execution_count": null,
   "metadata": {},
   "outputs": [],
   "source": [
    "pikachu.teach_move()\n"
   ]
  },
  {
   "cell_type": "code",
   "execution_count": null,
   "metadata": {},
   "outputs": [],
   "source": [
    "pikachu.show_moves()"
   ]
  },
  {
   "cell_type": "code",
   "execution_count": null,
   "metadata": {},
   "outputs": [],
   "source": []
  }
 ],
 "metadata": {
  "kernelspec": {
   "display_name": "Python 3 (ipykernel)",
   "language": "python",
   "name": "python3"
  },
  "language_info": {
   "codemirror_mode": {
    "name": "ipython",
    "version": 3
   },
   "file_extension": ".py",
   "mimetype": "text/x-python",
   "name": "python",
   "nbconvert_exporter": "python",
   "pygments_lexer": "ipython3",
   "version": "3.9.12"
  },
  "vscode": {
   "interpreter": {
    "hash": "135e52b540fea9e13eb8bd788116ed1c17c5802e4ed34ec2da12fc231a141e2f"
   }
  }
 },
 "nbformat": 4,
 "nbformat_minor": 4
}
